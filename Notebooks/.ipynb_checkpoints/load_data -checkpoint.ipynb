{
 "cells": [
  {
   "cell_type": "code",
   "execution_count": 1,
   "id": "74977cbf",
   "metadata": {},
   "outputs": [],
   "source": [
    "import pandas as pd \n",
    "import json \n",
    "import numpy as np \n",
    "import pdal \n",
    "import warnings \n",
    "warnings.filterwarnings('ignore')\n",
    "from pyproj import Proj, transform\n",
    "from shapely.geometry import Polygon, Point, mapping\n",
    "import geopandas as gpd\n"
   ]
  },
  {
   "cell_type": "code",
   "execution_count": 2,
   "id": "2bb4c70c",
   "metadata": {},
   "outputs": [],
   "source": [
    "def json_load(filepath):\n",
    "    \"\"\"\n",
    "    - function to load json file \n",
    "    \"\"\"\n",
    "    try:\n",
    "        with open(filepath) as file:\n",
    "            json_file = json.load(file)\n",
    "        return json_file\n",
    "    except FileNotFoundError:\n",
    "        print('this is file is not found')"
   ]
  },
  {
   "cell_type": "code",
   "execution_count": 3,
   "id": "6eb49195",
   "metadata": {},
   "outputs": [],
   "source": [
    "def convert_EPSG(fromT, lon, lat):\n",
    "    \"\"\"\n",
    "    -- function to change to the needed CRS format for better visualization\n",
    "    parameters:\n",
    "    \n",
    "    1. fromT: original EPSG format\n",
    "    2. lon: longitude\n",
    "    3. lat: latitude\n",
    "    \n",
    "    WGS84 is the most common global CRS in latitude and longitude and it have\n",
    "    \"init=epsg4326\" that will be used in this function \n",
    "    \n",
    "    \"\"\"\n",
    "    \n",
    "    P3857 = Proj(init='epsg:3857')\n",
    "    P4326 = Proj(init='epsg:4326')\n",
    "    if(fromT == 4326):\n",
    "        input1 = P4326\n",
    "        input2 = P3857\n",
    "        \n",
    "    else:\n",
    "        input1 = p3857\n",
    "        input2 = p4326\n",
    "        \n",
    "    x, y = transform(input1,input2,lon,lat)\n",
    "    return [x, y]"
   ]
  },
  {
   "cell_type": "code",
   "execution_count": 4,
   "id": "705106ea",
   "metadata": {},
   "outputs": [],
   "source": [
    "def loop_EPSG_converter(List):\n",
    "    \"\"\"\n",
    "    -- function to change format of a list of cordinates to a list of points \n",
    "    \"\"\"\n",
    "    converted_list = []\n",
    "    for i in List:\n",
    "        converted_list.append(convert_EPSG(4326, i[0], i[1]))\n",
    "        \n",
    "    return converted_list \n",
    "        "
   ]
  },
  {
   "cell_type": "code",
   "execution_count": 5,
   "id": "abe0d35d",
   "metadata": {},
   "outputs": [
    {
     "data": {
      "text/plain": [
       "[[-10436876.301386151, 5148721.349314567],\n",
       " [-10436887.43333523, 5148736.309605352],\n",
       " [-10436914.26133251, 5148775.206471106],\n",
       " [-10436865.169437071, 5148749.025870951],\n",
       " [-10436847.358318545, 5148704.145009145]]"
      ]
     },
     "execution_count": 5,
     "metadata": {},
     "output_type": "execute_result"
    }
   ],
   "source": [
    "coordinates = [\n",
    "    [-93.756055, 41.918115],\n",
    "    [-93.756155, 41.918215],\n",
    "    [-93.756396, 41.918475],\n",
    "    [-93.755955, 41.918300],\n",
    "    [-93.755795, 41.918000],\n",
    "]\n",
    "# change coordinates to a list of points\n",
    "corr_list = loop_EPSG_converter(coordinates)\n",
    "# polygon = generate_polygon(coordinates, 4326)\n",
    "corr_list"
   ]
  },
  {
   "cell_type": "code",
   "execution_count": 6,
   "id": "8a22e5db",
   "metadata": {},
   "outputs": [],
   "source": [
    "def generate_polygon(coor, epsg):\n",
    "    \"\"\"\n",
    "    --Generate a polygon given a co-ordinate and CRS format\n",
    "\n",
    "    \"\"\"\n",
    "    polygon_g = Polygon(coor)\n",
    "    crs = {'init': 'epsg:'+str(epsg)}\n",
    "    polygon = gpd.GeoDataFrame(index=[0], crs=crs, geometry=[polygon_g])       \n",
    "    return polygon"
   ]
  },
  {
   "cell_type": "code",
   "execution_count": 7,
   "id": "daa1acba",
   "metadata": {},
   "outputs": [
    {
     "data": {
      "text/html": [
       "<div>\n",
       "<style scoped>\n",
       "    .dataframe tbody tr th:only-of-type {\n",
       "        vertical-align: middle;\n",
       "    }\n",
       "\n",
       "    .dataframe tbody tr th {\n",
       "        vertical-align: top;\n",
       "    }\n",
       "\n",
       "    .dataframe thead th {\n",
       "        text-align: right;\n",
       "    }\n",
       "</style>\n",
       "<table border=\"1\" class=\"dataframe\">\n",
       "  <thead>\n",
       "    <tr style=\"text-align: right;\">\n",
       "      <th></th>\n",
       "      <th>geometry</th>\n",
       "    </tr>\n",
       "  </thead>\n",
       "  <tbody>\n",
       "    <tr>\n",
       "      <th>0</th>\n",
       "      <td>POLYGON ((-10436876.30139 5148721.34931, -1043...</td>\n",
       "    </tr>\n",
       "  </tbody>\n",
       "</table>\n",
       "</div>"
      ],
      "text/plain": [
       "                                            geometry\n",
       "0  POLYGON ((-10436876.30139 5148721.34931, -1043..."
      ]
     },
     "execution_count": 7,
     "metadata": {},
     "output_type": "execute_result"
    }
   ],
   "source": [
    "polygon = generate_polygon(corr_list,4326)\n",
    "polygon"
   ]
  },
  {
   "cell_type": "code",
   "execution_count": 8,
   "id": "4062e9c2",
   "metadata": {},
   "outputs": [],
   "source": [
    "def json_modification(json_filepath, url, region,espg_in, espg_out):\n",
    "    \"\"\"\n",
    "    -- function to modify json pipeline file to fetch data \n",
    "    \"\"\"\n",
    "    d = json_load(json_filepath)\n",
    "    d['pipeline'][0]['polygon'] = str(polygon.iloc[:,0][0])\n",
    "    d['pipeline'][0]['filename'] = f\"{url}/{region}/ept.json\"\n",
    "    d['pipeline'][2]['in_srs'] = f\"EPSG:{espg_in}\"\n",
    "    d['pipeline'][2]['out_srs'] = f\"EPSG:{espg_out}\"\n",
    "    return d\n",
    "    "
   ]
  },
  {
   "cell_type": "code",
   "execution_count": 9,
   "id": "2174aad3",
   "metadata": {},
   "outputs": [],
   "source": [
    "path = \"../pipeline_json.json\"\n",
    "url = \"https://s3-us-west-2.amazonaws.com/usgs-lidar-public\"\n",
    "region = \"IA_FullState\"\n",
    "in_srs = 3857\n",
    "out_srs = 4326"
   ]
  },
  {
   "cell_type": "code",
   "execution_count": 10,
   "id": "73a90262",
   "metadata": {},
   "outputs": [],
   "source": [
    "# modifiy json file \n",
    "r = json_modification(path, url, region, in_srs, out_srs)"
   ]
  },
  {
   "cell_type": "code",
   "execution_count": 11,
   "id": "6778ca2a",
   "metadata": {},
   "outputs": [
    {
     "data": {
      "text/plain": [
       "{'pipeline': [{'polygon': 'POLYGON ((-10436876.301386151 5148721.349314567, -10436887.43333523 5148736.309605352, -10436914.26133251 5148775.206471106, -10436865.169437071 5148749.025870951, -10436847.358318545 5148704.145009145, -10436876.301386151 5148721.349314567))',\n",
       "   'filename': 'https://s3-us-west-2.amazonaws.com/usgs-lidar-public/IA_FullState/ept.json',\n",
       "   'type': 'readers.ept',\n",
       "   'tag': 'readdata'},\n",
       "  {'type': 'filters.range',\n",
       "   'limits': 'Classification![7:7]',\n",
       "   'tag': 'no_noise'},\n",
       "  {'in_srs': 'EPSG:3857',\n",
       "   'out_srs': 'EPSG:4326',\n",
       "   'tag': 'reprojectUTM',\n",
       "   'type': 'filters.reprojection'},\n",
       "  {'filename': 'iowa.csv', 'tag': 'writerscsv', 'type': 'writers.text'},\n",
       "  {'filename': 'iowa.las', 'tag': 'writersply', 'type': 'writers.las'}]}"
      ]
     },
     "execution_count": 11,
     "metadata": {},
     "output_type": "execute_result"
    }
   ],
   "source": [
    "r"
   ]
  },
  {
   "cell_type": "code",
   "execution_count": 12,
   "id": "e6806dde",
   "metadata": {},
   "outputs": [],
   "source": [
    "# pipe creation\n",
    "pipe = pdal.Pipeline(json.dumps(r))"
   ]
  },
  {
   "cell_type": "code",
   "execution_count": 13,
   "id": "31fdd0c6",
   "metadata": {},
   "outputs": [],
   "source": [
    "# generate the dataframe  from the pipeline using created pipe \n",
    "\n",
    "def geo_df(pipe,epsg):\n",
    "    elevations = []\n",
    "    geometry_ = []\n",
    "    counts = pipe.execute()\n",
    "    arrays = pipe.arrays[0]\n",
    "    \n",
    "    for i in arrays:\n",
    "        lists = list(i)[-3:]\n",
    "        elevations.append(lists[2])\n",
    "        geometry_.append(Point(lists[0],lists[1]))\n",
    "        \n",
    "    df = gpd.GeoDataFrame(columns=[\"elevation_m\", \"Geometry\"])\n",
    "    df['elevation_m'] = elevations\n",
    "    df['Geometry'] = geometry_\n",
    "    df = df.set_geometry('Geometry')\n",
    "    df.set_crs(epsg = epsg, inplace=True)\n",
    "    \n",
    "    return df "
   ]
  },
  {
   "cell_type": "code",
   "execution_count": 14,
   "id": "bb5fdd08",
   "metadata": {},
   "outputs": [],
   "source": [
    "df = geo_df(pipe, 4326)"
   ]
  },
  {
   "cell_type": "code",
   "execution_count": 15,
   "id": "a58122ac",
   "metadata": {},
   "outputs": [
    {
     "data": {
      "text/html": [
       "<div>\n",
       "<style scoped>\n",
       "    .dataframe tbody tr th:only-of-type {\n",
       "        vertical-align: middle;\n",
       "    }\n",
       "\n",
       "    .dataframe tbody tr th {\n",
       "        vertical-align: top;\n",
       "    }\n",
       "\n",
       "    .dataframe thead th {\n",
       "        text-align: right;\n",
       "    }\n",
       "</style>\n",
       "<table border=\"1\" class=\"dataframe\">\n",
       "  <thead>\n",
       "    <tr style=\"text-align: right;\">\n",
       "      <th></th>\n",
       "      <th>elevation_m</th>\n",
       "      <th>Geometry</th>\n",
       "    </tr>\n",
       "  </thead>\n",
       "  <tbody>\n",
       "    <tr>\n",
       "      <th>0</th>\n",
       "      <td>310.37</td>\n",
       "      <td>POINT (-93.75581 41.91802)</td>\n",
       "    </tr>\n",
       "    <tr>\n",
       "      <th>1</th>\n",
       "      <td>310.56</td>\n",
       "      <td>POINT (-93.75582 41.91803)</td>\n",
       "    </tr>\n",
       "    <tr>\n",
       "      <th>2</th>\n",
       "      <td>310.33</td>\n",
       "      <td>POINT (-93.75585 41.91803)</td>\n",
       "    </tr>\n",
       "    <tr>\n",
       "      <th>3</th>\n",
       "      <td>310.42</td>\n",
       "      <td>POINT (-93.75587 41.91804)</td>\n",
       "    </tr>\n",
       "    <tr>\n",
       "      <th>4</th>\n",
       "      <td>310.30</td>\n",
       "      <td>POINT (-93.75584 41.91804)</td>\n",
       "    </tr>\n",
       "  </tbody>\n",
       "</table>\n",
       "</div>"
      ],
      "text/plain": [
       "   elevation_m                    Geometry\n",
       "0       310.37  POINT (-93.75581 41.91802)\n",
       "1       310.56  POINT (-93.75582 41.91803)\n",
       "2       310.33  POINT (-93.75585 41.91803)\n",
       "3       310.42  POINT (-93.75587 41.91804)\n",
       "4       310.30  POINT (-93.75584 41.91804)"
      ]
     },
     "execution_count": 15,
     "metadata": {},
     "output_type": "execute_result"
    }
   ],
   "source": [
    "df.head()"
   ]
  },
  {
   "cell_type": "code",
   "execution_count": null,
   "id": "c12c1385",
   "metadata": {},
   "outputs": [],
   "source": []
  }
 ],
 "metadata": {
  "kernelspec": {
   "display_name": "Python 3 (ipykernel)",
   "language": "python",
   "name": "python3"
  },
  "language_info": {
   "codemirror_mode": {
    "name": "ipython",
    "version": 3
   },
   "file_extension": ".py",
   "mimetype": "text/x-python",
   "name": "python",
   "nbconvert_exporter": "python",
   "pygments_lexer": "ipython3",
   "version": "3.10.5"
  }
 },
 "nbformat": 4,
 "nbformat_minor": 5
}
