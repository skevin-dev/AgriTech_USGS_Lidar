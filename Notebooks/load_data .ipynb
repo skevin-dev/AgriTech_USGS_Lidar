{
 "cells": [
  {
   "cell_type": "code",
   "execution_count": 12,
   "id": "74977cbf",
   "metadata": {},
   "outputs": [],
   "source": [
    "import pandas as pd \n",
    "import json \n",
    "import numpy as np \n",
    "import pdal \n",
    "import warnings \n",
    "warnings.filterwarnings('ignore')\n",
    "from pyproj import Proj, transform"
   ]
  },
  {
   "cell_type": "code",
   "execution_count": 9,
   "id": "8c8ad5be",
   "metadata": {},
   "outputs": [],
   "source": [
    "def json_load(filepath):\n",
    "    \"\"\"\n",
    "    - function to load json file \n",
    "    \"\"\"\n",
    "    try:\n",
    "        with open(filepath) as file:\n",
    "            json_file = json.load(file)\n",
    "        return json_file\n",
    "    except FileNotFoundError:\n",
    "        print('this is file is not found')"
   ]
  },
  {
   "cell_type": "code",
   "execution_count": 13,
   "id": "9c225a27",
   "metadata": {},
   "outputs": [],
   "source": [
    "def convert_EPSG(fromT, lon, lat):\n",
    "    \"\"\"\n",
    "    -- function to change to the needed CRS format for better visualization\n",
    "    parameters:\n",
    "    \n",
    "    1. fromT: original EPSG format\n",
    "    2. lon: longitude\n",
    "    3. lat: latitude\n",
    "    \n",
    "    WGS84 is the most common global CRS in latitude and longitude and it have\n",
    "    \"init=epsg4326\" that will be used in this function \n",
    "    \n",
    "    \"\"\"\n",
    "    \n",
    "    P3857 = Proj(init='epsg:3857')\n",
    "    P4326 = Proj(init='epsg:4326')\n",
    "    if(fromT == 4326):\n",
    "        input1 = P4326\n",
    "        input2 = P3857\n",
    "        \n",
    "    else:\n",
    "        input1 = p3857\n",
    "        input2 = p4326\n",
    "        \n",
    "    x, y = transform(input1,input2,lon,lat)\n",
    "    return [x, y]"
   ]
  },
  {
   "cell_type": "code",
   "execution_count": null,
   "id": "799f6d0d",
   "metadata": {},
   "outputs": [],
   "source": []
  }
 ],
 "metadata": {
  "kernelspec": {
   "display_name": "Python 3 (ipykernel)",
   "language": "python",
   "name": "python3"
  },
  "language_info": {
   "codemirror_mode": {
    "name": "ipython",
    "version": 3
   },
   "file_extension": ".py",
   "mimetype": "text/x-python",
   "name": "python",
   "nbconvert_exporter": "python",
   "pygments_lexer": "ipython3",
   "version": "3.10.5"
  }
 },
 "nbformat": 4,
 "nbformat_minor": 5
}
